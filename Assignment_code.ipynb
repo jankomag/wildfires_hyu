{
 "cells": [
  {
   "cell_type": "code",
   "execution_count": 50,
   "metadata": {
    "id": "rXiqTzVLIuzc"
   },
   "outputs": [],
   "source": [
    "import pandas as pd\n",
    "import numpy as np\n",
    "import seaborn as sn\n",
    "import matplotlib.pyplot as plt\n",
    "import seaborn as sns\n",
    "import missingno as msno\n",
    "from datetime import datetime\n",
    "\n",
    "from sklearn import preprocessing\n",
    "from sklearn import metrics\n",
    "from sklearn.model_selection import train_test_split\n",
    "from sklearn.preprocessing import Normalizer\n",
    "from sklearn.model_selection import cross_val_score\n",
    "\n",
    "from sklearn.tree import DecisionTreeRegressor\n",
    "from sklearn.ensemble import GradientBoostingRegressor\n",
    "from sklearn.ensemble import RandomForestRegressor\n",
    "from sklearn.preprocessing import StandardScaler\n",
    "from sklearn.decomposition import PCA\n",
    "from sklearn.preprocessing import MinMaxScaler\n",
    "from sklearn.model_selection import GridSearchCV\n",
    "\n",
    "import tensorflow as tf\n",
    "from tensorflow.keras.models import Sequential\n",
    "from tensorflow.keras.layers import Dense\n",
    "from tensorflow.keras import regularizers\n",
    "import tensorflow.keras as keras"
   ]
  },
  {
   "cell_type": "markdown",
   "metadata": {
    "id": "Ie5gmDuNNIUj"
   },
   "source": [
    "# Data wrangling"
   ]
  },
  {
   "cell_type": "code",
   "execution_count": 51,
   "metadata": {},
   "outputs": [],
   "source": [
    "pd.set_option('display.max_columns', None)"
   ]
  },
  {
   "cell_type": "code",
   "execution_count": 52,
   "metadata": {
    "id": "MEEpKVVgTkW0"
   },
   "outputs": [
    {
     "data": {
      "text/plain": [
       "Index(['fire_size', 'fire_size_class', 'stat_cause_descr', 'latitude',\n",
       "       'longitude', 'state', 'disc_clean_date', 'discovery_month',\n",
       "       'disc_date_pre', 'disc_pre_year', 'disc_pre_month', 'wstation_usaf',\n",
       "       'dstation_m', 'wstation_wban', 'wstation_byear', 'wstation_eyear',\n",
       "       'Vegetation', 'fire_mag', 'weather_file', 'Temp_pre_30', 'Temp_pre_15',\n",
       "       'Temp_pre_7', 'Temp_cont', 'Wind_pre_30', 'Wind_pre_15', 'Wind_pre_7',\n",
       "       'Wind_cont', 'Hum_pre_30', 'Hum_pre_15', 'Hum_pre_7', 'Hum_cont',\n",
       "       'Prec_pre_30', 'Prec_pre_15', 'Prec_pre_7', 'Prec_cont', 'remoteness'],\n",
       "      dtype='object')"
      ]
     },
     "execution_count": 52,
     "metadata": {},
     "output_type": "execute_result"
    }
   ],
   "source": [
    "df = pd.read_csv('Wildfire.csv')\n",
    "df = df.drop(columns=['Unnamed: 0', 'Unnamed: 0.1', 'fire_name','disc_date_final','cont_date_final','cont_clean_date','putout_time'])\n",
    "df['disc_clean_date'] = pd.to_datetime(df['disc_clean_date'], format='%m/%d/%Y')\n",
    "df.columns"
   ]
  },
  {
   "cell_type": "code",
   "execution_count": 53,
   "metadata": {},
   "outputs": [
    {
     "data": {
      "text/html": [
       "<div>\n",
       "<style scoped>\n",
       "    .dataframe tbody tr th:only-of-type {\n",
       "        vertical-align: middle;\n",
       "    }\n",
       "\n",
       "    .dataframe tbody tr th {\n",
       "        vertical-align: top;\n",
       "    }\n",
       "\n",
       "    .dataframe thead th {\n",
       "        text-align: right;\n",
       "    }\n",
       "</style>\n",
       "<table border=\"1\" class=\"dataframe\">\n",
       "  <thead>\n",
       "    <tr style=\"text-align: right;\">\n",
       "      <th></th>\n",
       "      <th>fire_size</th>\n",
       "      <th>fire_size_class</th>\n",
       "      <th>latitude</th>\n",
       "      <th>longitude</th>\n",
       "      <th>state</th>\n",
       "      <th>disc_clean_date</th>\n",
       "      <th>discovery_month</th>\n",
       "      <th>disc_date_pre</th>\n",
       "      <th>disc_pre_year</th>\n",
       "      <th>disc_pre_month</th>\n",
       "      <th>wstation_usaf</th>\n",
       "      <th>dstation_m</th>\n",
       "      <th>wstation_wban</th>\n",
       "      <th>wstation_byear</th>\n",
       "      <th>wstation_eyear</th>\n",
       "      <th>fire_mag</th>\n",
       "      <th>weather_file</th>\n",
       "      <th>Temp_pre_30</th>\n",
       "      <th>Temp_pre_15</th>\n",
       "      <th>Temp_pre_7</th>\n",
       "      <th>Temp_cont</th>\n",
       "      <th>Wind_pre_30</th>\n",
       "      <th>Wind_pre_15</th>\n",
       "      <th>Wind_pre_7</th>\n",
       "      <th>Wind_cont</th>\n",
       "      <th>Hum_pre_30</th>\n",
       "      <th>Hum_pre_15</th>\n",
       "      <th>Hum_pre_7</th>\n",
       "      <th>Hum_cont</th>\n",
       "      <th>Prec_pre_30</th>\n",
       "      <th>Prec_pre_15</th>\n",
       "      <th>Prec_pre_7</th>\n",
       "      <th>Prec_cont</th>\n",
       "      <th>remoteness</th>\n",
       "      <th>Cause</th>\n",
       "      <th>Vegetation_4</th>\n",
       "      <th>Vegetation_9</th>\n",
       "      <th>Vegetation_12</th>\n",
       "      <th>Vegetation_14</th>\n",
       "      <th>Vegetation_15</th>\n",
       "      <th>Vegetation_16</th>\n",
       "      <th>Cause_Campfire</th>\n",
       "      <th>Cause_Children</th>\n",
       "      <th>Cause_Debris Burning</th>\n",
       "      <th>Cause_Equipment Use</th>\n",
       "      <th>Cause_Fireworks</th>\n",
       "      <th>Cause_Lightning</th>\n",
       "      <th>Cause_Miscellaneous</th>\n",
       "      <th>Cause_Missing/Undefined</th>\n",
       "      <th>Cause_Powerline</th>\n",
       "      <th>Cause_Railroad</th>\n",
       "      <th>Cause_Smoking</th>\n",
       "      <th>Cause_Structure</th>\n",
       "    </tr>\n",
       "  </thead>\n",
       "  <tbody>\n",
       "    <tr>\n",
       "      <th>0</th>\n",
       "      <td>10.0</td>\n",
       "      <td>C</td>\n",
       "      <td>18.105072</td>\n",
       "      <td>-66.753044</td>\n",
       "      <td>PR</td>\n",
       "      <td>2007-02-11</td>\n",
       "      <td>Feb</td>\n",
       "      <td>1/12/2007</td>\n",
       "      <td>2007</td>\n",
       "      <td>Jan</td>\n",
       "      <td>785140</td>\n",
       "      <td>58917.69716</td>\n",
       "      <td>11603</td>\n",
       "      <td>1945</td>\n",
       "      <td>2018</td>\n",
       "      <td>1.0</td>\n",
       "      <td>785140-11603-2007.gz</td>\n",
       "      <td>24.480974</td>\n",
       "      <td>24.716923</td>\n",
       "      <td>24.902597</td>\n",
       "      <td>24.527961</td>\n",
       "      <td>4.341807</td>\n",
       "      <td>3.492857</td>\n",
       "      <td>3.262092</td>\n",
       "      <td>3.250413</td>\n",
       "      <td>78.216590</td>\n",
       "      <td>76.793750</td>\n",
       "      <td>76.381579</td>\n",
       "      <td>78.724370</td>\n",
       "      <td>0.0</td>\n",
       "      <td>0.0</td>\n",
       "      <td>0.0</td>\n",
       "      <td>0.0</td>\n",
       "      <td>0.017923</td>\n",
       "      <td>Missing/Undefined</td>\n",
       "      <td>0</td>\n",
       "      <td>0</td>\n",
       "      <td>1</td>\n",
       "      <td>0</td>\n",
       "      <td>0</td>\n",
       "      <td>0</td>\n",
       "      <td>0</td>\n",
       "      <td>0</td>\n",
       "      <td>0</td>\n",
       "      <td>0</td>\n",
       "      <td>0</td>\n",
       "      <td>0</td>\n",
       "      <td>0</td>\n",
       "      <td>1</td>\n",
       "      <td>0</td>\n",
       "      <td>0</td>\n",
       "      <td>0</td>\n",
       "      <td>0</td>\n",
       "    </tr>\n",
       "    <tr>\n",
       "      <th>1</th>\n",
       "      <td>3.0</td>\n",
       "      <td>B</td>\n",
       "      <td>35.038330</td>\n",
       "      <td>-87.610000</td>\n",
       "      <td>TN</td>\n",
       "      <td>2006-12-11</td>\n",
       "      <td>Dec</td>\n",
       "      <td>11/11/2006</td>\n",
       "      <td>2006</td>\n",
       "      <td>Nov</td>\n",
       "      <td>723235</td>\n",
       "      <td>32665.34327</td>\n",
       "      <td>13896</td>\n",
       "      <td>1978</td>\n",
       "      <td>2020</td>\n",
       "      <td>0.1</td>\n",
       "      <td>723235-13896-2006.gz</td>\n",
       "      <td>7.553433</td>\n",
       "      <td>7.010000</td>\n",
       "      <td>0.343529</td>\n",
       "      <td>10.448298</td>\n",
       "      <td>2.709764</td>\n",
       "      <td>2.881707</td>\n",
       "      <td>1.976471</td>\n",
       "      <td>2.122320</td>\n",
       "      <td>70.840000</td>\n",
       "      <td>65.858911</td>\n",
       "      <td>55.505882</td>\n",
       "      <td>81.682678</td>\n",
       "      <td>59.8</td>\n",
       "      <td>8.4</td>\n",
       "      <td>0.0</td>\n",
       "      <td>86.8</td>\n",
       "      <td>0.184355</td>\n",
       "      <td>Arson</td>\n",
       "      <td>0</td>\n",
       "      <td>0</td>\n",
       "      <td>0</td>\n",
       "      <td>0</td>\n",
       "      <td>1</td>\n",
       "      <td>0</td>\n",
       "      <td>0</td>\n",
       "      <td>0</td>\n",
       "      <td>0</td>\n",
       "      <td>0</td>\n",
       "      <td>0</td>\n",
       "      <td>0</td>\n",
       "      <td>0</td>\n",
       "      <td>0</td>\n",
       "      <td>0</td>\n",
       "      <td>0</td>\n",
       "      <td>0</td>\n",
       "      <td>0</td>\n",
       "    </tr>\n",
       "    <tr>\n",
       "      <th>2</th>\n",
       "      <td>60.0</td>\n",
       "      <td>C</td>\n",
       "      <td>34.947800</td>\n",
       "      <td>-88.722500</td>\n",
       "      <td>MS</td>\n",
       "      <td>2004-02-29</td>\n",
       "      <td>Feb</td>\n",
       "      <td>1/30/2004</td>\n",
       "      <td>2004</td>\n",
       "      <td>Jan</td>\n",
       "      <td>723235</td>\n",
       "      <td>105122.14950</td>\n",
       "      <td>13896</td>\n",
       "      <td>1978</td>\n",
       "      <td>2020</td>\n",
       "      <td>1.0</td>\n",
       "      <td>723235-13896-2004.gz</td>\n",
       "      <td>4.971930</td>\n",
       "      <td>5.782766</td>\n",
       "      <td>5.558750</td>\n",
       "      <td>13.696600</td>\n",
       "      <td>3.364499</td>\n",
       "      <td>2.923830</td>\n",
       "      <td>2.695833</td>\n",
       "      <td>3.369050</td>\n",
       "      <td>75.531629</td>\n",
       "      <td>75.868613</td>\n",
       "      <td>76.812834</td>\n",
       "      <td>65.063800</td>\n",
       "      <td>168.8</td>\n",
       "      <td>42.2</td>\n",
       "      <td>18.1</td>\n",
       "      <td>124.5</td>\n",
       "      <td>0.194544</td>\n",
       "      <td>Arson</td>\n",
       "      <td>0</td>\n",
       "      <td>0</td>\n",
       "      <td>0</td>\n",
       "      <td>0</td>\n",
       "      <td>0</td>\n",
       "      <td>1</td>\n",
       "      <td>0</td>\n",
       "      <td>0</td>\n",
       "      <td>0</td>\n",
       "      <td>0</td>\n",
       "      <td>0</td>\n",
       "      <td>0</td>\n",
       "      <td>0</td>\n",
       "      <td>0</td>\n",
       "      <td>0</td>\n",
       "      <td>0</td>\n",
       "      <td>0</td>\n",
       "      <td>0</td>\n",
       "    </tr>\n",
       "    <tr>\n",
       "      <th>3</th>\n",
       "      <td>1.0</td>\n",
       "      <td>B</td>\n",
       "      <td>39.641400</td>\n",
       "      <td>-119.308300</td>\n",
       "      <td>NV</td>\n",
       "      <td>2005-06-06</td>\n",
       "      <td>Jun</td>\n",
       "      <td>5/7/2005</td>\n",
       "      <td>2005</td>\n",
       "      <td>May</td>\n",
       "      <td>724880</td>\n",
       "      <td>43433.32978</td>\n",
       "      <td>23185</td>\n",
       "      <td>1942</td>\n",
       "      <td>2020</td>\n",
       "      <td>0.1</td>\n",
       "      <td>724880-23185-2005.gz</td>\n",
       "      <td>16.275967</td>\n",
       "      <td>18.996181</td>\n",
       "      <td>18.142564</td>\n",
       "      <td>0.000000</td>\n",
       "      <td>4.054982</td>\n",
       "      <td>3.398329</td>\n",
       "      <td>3.671282</td>\n",
       "      <td>0.000000</td>\n",
       "      <td>44.778429</td>\n",
       "      <td>37.140811</td>\n",
       "      <td>35.353846</td>\n",
       "      <td>0.000000</td>\n",
       "      <td>10.4</td>\n",
       "      <td>7.2</td>\n",
       "      <td>0.0</td>\n",
       "      <td>0.0</td>\n",
       "      <td>0.487447</td>\n",
       "      <td>Debris Burning</td>\n",
       "      <td>0</td>\n",
       "      <td>0</td>\n",
       "      <td>0</td>\n",
       "      <td>0</td>\n",
       "      <td>0</td>\n",
       "      <td>0</td>\n",
       "      <td>0</td>\n",
       "      <td>0</td>\n",
       "      <td>1</td>\n",
       "      <td>0</td>\n",
       "      <td>0</td>\n",
       "      <td>0</td>\n",
       "      <td>0</td>\n",
       "      <td>0</td>\n",
       "      <td>0</td>\n",
       "      <td>0</td>\n",
       "      <td>0</td>\n",
       "      <td>0</td>\n",
       "    </tr>\n",
       "    <tr>\n",
       "      <th>4</th>\n",
       "      <td>2.0</td>\n",
       "      <td>B</td>\n",
       "      <td>30.700600</td>\n",
       "      <td>-90.591400</td>\n",
       "      <td>LA</td>\n",
       "      <td>1999-09-22</td>\n",
       "      <td>Sep</td>\n",
       "      <td>8/23/1999</td>\n",
       "      <td>1999</td>\n",
       "      <td>Aug</td>\n",
       "      <td>722312</td>\n",
       "      <td>25940.57409</td>\n",
       "      <td>3908</td>\n",
       "      <td>1987</td>\n",
       "      <td>2016</td>\n",
       "      <td>0.1</td>\n",
       "      <td>File Not Found</td>\n",
       "      <td>-1.000000</td>\n",
       "      <td>-1.000000</td>\n",
       "      <td>-1.000000</td>\n",
       "      <td>-1.000000</td>\n",
       "      <td>-1.000000</td>\n",
       "      <td>-1.000000</td>\n",
       "      <td>-1.000000</td>\n",
       "      <td>-1.000000</td>\n",
       "      <td>-1.000000</td>\n",
       "      <td>-1.000000</td>\n",
       "      <td>-1.000000</td>\n",
       "      <td>-1.000000</td>\n",
       "      <td>-1.0</td>\n",
       "      <td>-1.0</td>\n",
       "      <td>-1.0</td>\n",
       "      <td>-1.0</td>\n",
       "      <td>0.214633</td>\n",
       "      <td>Miscellaneous</td>\n",
       "      <td>0</td>\n",
       "      <td>0</td>\n",
       "      <td>1</td>\n",
       "      <td>0</td>\n",
       "      <td>0</td>\n",
       "      <td>0</td>\n",
       "      <td>0</td>\n",
       "      <td>0</td>\n",
       "      <td>0</td>\n",
       "      <td>0</td>\n",
       "      <td>0</td>\n",
       "      <td>0</td>\n",
       "      <td>1</td>\n",
       "      <td>0</td>\n",
       "      <td>0</td>\n",
       "      <td>0</td>\n",
       "      <td>0</td>\n",
       "      <td>0</td>\n",
       "    </tr>\n",
       "  </tbody>\n",
       "</table>\n",
       "</div>"
      ],
      "text/plain": [
       "   fire_size fire_size_class   latitude   longitude state disc_clean_date  \\\n",
       "0       10.0               C  18.105072  -66.753044    PR      2007-02-11   \n",
       "1        3.0               B  35.038330  -87.610000    TN      2006-12-11   \n",
       "2       60.0               C  34.947800  -88.722500    MS      2004-02-29   \n",
       "3        1.0               B  39.641400 -119.308300    NV      2005-06-06   \n",
       "4        2.0               B  30.700600  -90.591400    LA      1999-09-22   \n",
       "\n",
       "  discovery_month disc_date_pre  disc_pre_year disc_pre_month wstation_usaf  \\\n",
       "0             Feb     1/12/2007           2007            Jan        785140   \n",
       "1             Dec    11/11/2006           2006            Nov        723235   \n",
       "2             Feb     1/30/2004           2004            Jan        723235   \n",
       "3             Jun      5/7/2005           2005            May        724880   \n",
       "4             Sep     8/23/1999           1999            Aug        722312   \n",
       "\n",
       "     dstation_m  wstation_wban  wstation_byear  wstation_eyear  fire_mag  \\\n",
       "0   58917.69716          11603            1945            2018       1.0   \n",
       "1   32665.34327          13896            1978            2020       0.1   \n",
       "2  105122.14950          13896            1978            2020       1.0   \n",
       "3   43433.32978          23185            1942            2020       0.1   \n",
       "4   25940.57409           3908            1987            2016       0.1   \n",
       "\n",
       "           weather_file  Temp_pre_30  Temp_pre_15  Temp_pre_7  Temp_cont  \\\n",
       "0  785140-11603-2007.gz    24.480974    24.716923   24.902597  24.527961   \n",
       "1  723235-13896-2006.gz     7.553433     7.010000    0.343529  10.448298   \n",
       "2  723235-13896-2004.gz     4.971930     5.782766    5.558750  13.696600   \n",
       "3  724880-23185-2005.gz    16.275967    18.996181   18.142564   0.000000   \n",
       "4        File Not Found    -1.000000    -1.000000   -1.000000  -1.000000   \n",
       "\n",
       "   Wind_pre_30  Wind_pre_15  Wind_pre_7  Wind_cont  Hum_pre_30  Hum_pre_15  \\\n",
       "0     4.341807     3.492857    3.262092   3.250413   78.216590   76.793750   \n",
       "1     2.709764     2.881707    1.976471   2.122320   70.840000   65.858911   \n",
       "2     3.364499     2.923830    2.695833   3.369050   75.531629   75.868613   \n",
       "3     4.054982     3.398329    3.671282   0.000000   44.778429   37.140811   \n",
       "4    -1.000000    -1.000000   -1.000000  -1.000000   -1.000000   -1.000000   \n",
       "\n",
       "   Hum_pre_7   Hum_cont  Prec_pre_30  Prec_pre_15  Prec_pre_7  Prec_cont  \\\n",
       "0  76.381579  78.724370          0.0          0.0         0.0        0.0   \n",
       "1  55.505882  81.682678         59.8          8.4         0.0       86.8   \n",
       "2  76.812834  65.063800        168.8         42.2        18.1      124.5   \n",
       "3  35.353846   0.000000         10.4          7.2         0.0        0.0   \n",
       "4  -1.000000  -1.000000         -1.0         -1.0        -1.0       -1.0   \n",
       "\n",
       "   remoteness              Cause  Vegetation_4  Vegetation_9  Vegetation_12  \\\n",
       "0    0.017923  Missing/Undefined             0             0              1   \n",
       "1    0.184355              Arson             0             0              0   \n",
       "2    0.194544              Arson             0             0              0   \n",
       "3    0.487447     Debris Burning             0             0              0   \n",
       "4    0.214633      Miscellaneous             0             0              1   \n",
       "\n",
       "   Vegetation_14  Vegetation_15  Vegetation_16  Cause_Campfire  \\\n",
       "0              0              0              0               0   \n",
       "1              0              1              0               0   \n",
       "2              0              0              1               0   \n",
       "3              0              0              0               0   \n",
       "4              0              0              0               0   \n",
       "\n",
       "   Cause_Children  Cause_Debris Burning  Cause_Equipment Use  Cause_Fireworks  \\\n",
       "0               0                     0                    0                0   \n",
       "1               0                     0                    0                0   \n",
       "2               0                     0                    0                0   \n",
       "3               0                     1                    0                0   \n",
       "4               0                     0                    0                0   \n",
       "\n",
       "   Cause_Lightning  Cause_Miscellaneous  Cause_Missing/Undefined  \\\n",
       "0                0                    0                        1   \n",
       "1                0                    0                        0   \n",
       "2                0                    0                        0   \n",
       "3                0                    0                        0   \n",
       "4                0                    1                        0   \n",
       "\n",
       "   Cause_Powerline  Cause_Railroad  Cause_Smoking  Cause_Structure  \n",
       "0                0               0              0                0  \n",
       "1                0               0              0                0  \n",
       "2                0               0              0                0  \n",
       "3                0               0              0                0  \n",
       "4                0               0              0                0  "
      ]
     },
     "execution_count": 53,
     "metadata": {},
     "output_type": "execute_result"
    }
   ],
   "source": [
    "#one hot encoding vegetation\n",
    "df['Vegetation'] = df['Vegetation'].astype('category')\n",
    "df['Cause'] = df['stat_cause_descr'].astype('category')\n",
    "\n",
    "df = pd.get_dummies(df,prefix=['Vegetation'], columns = ['Vegetation'], drop_first=True)\n",
    "df = pd.get_dummies(df,prefix=['Cause'], columns = ['stat_cause_descr'], drop_first=True)\n",
    "\n",
    "df.head()"
   ]
  },
  {
   "cell_type": "code",
   "execution_count": 54,
   "metadata": {
    "colab": {
     "base_uri": "https://localhost:8080/",
     "height": 739
    },
    "id": "yCpAxKRiYct8",
    "outputId": "af327752-3dec-4116-dccc-9811e9eee7e0"
   },
   "outputs": [
    {
     "name": "stdout",
     "output_type": "stream",
     "text": [
      "55367\n",
      "41132\n",
      "38689\n"
     ]
    }
   ],
   "source": [
    "### Dealing with missing data\n",
    "print(len(df))\n",
    "\n",
    "# drop columns where weather file is missing\n",
    "index = df[df['weather_file'] == 'File Not Found'].index\n",
    "df.drop(index, inplace = True)\n",
    "print(len(df))\n",
    "\n",
    "# Weather data has a lot of 0 values some of which may be missing values\n",
    "# So here we mark '0' values in weather columns as Na (to see how many there are)\n",
    "subset = ['Temp_pre_30','Temp_pre_15','Temp_pre_7','Temp_cont','Wind_pre_30','Wind_pre_15','Wind_pre_7','Wind_cont','Hum_pre_30', 'Hum_pre_15','Hum_pre_7','Hum_cont']\n",
    "df[subset] = df[subset].replace({0:np.nan, '0':np.nan})\n",
    "subset_neg1 = ['Prec_pre_30','Prec_pre_15','Prec_pre_7','Prec_cont']\n",
    "df[subset_neg1] = df[subset_neg1].replace({-1:np.nan})\n",
    "\n",
    "# Drop observations where all weather columns are 0\n",
    "df = df.dropna(how='all',\n",
    "                    subset=['Temp_pre_30','Temp_pre_15','Temp_pre_7','Temp_cont','Wind_pre_30','Wind_pre_15','Wind_pre_7','Wind_cont'])\n",
    "print(len(df))\n",
    "# This leaves us with 38,689 observations to work with (originally we had 50,000)\n",
    "\n",
    "# fill pre columns temp wind and humidity with mean values\n",
    "subset_fill_mean = ['Temp_pre_30','Temp_pre_15','Temp_pre_7', 'Wind_pre_30','Wind_pre_15','Wind_pre_7', 'Hum_pre_30', 'Hum_pre_15','Hum_pre_7']\n",
    "df[subset_fill_mean] = df[subset_fill_mean].fillna(df[subset_fill_mean].mean())\n",
    "\n",
    "# Fill nas of current based on mean values from previous days\n",
    "df['Temp_cont'] = df.apply(\n",
    "    lambda row: (row['Temp_pre_7']+row['Temp_pre_15']+row['Temp_pre_30'])/3 if np.isnan(row['Temp_cont']) else row['Temp_cont'],\n",
    "    axis=1)\n",
    "\n",
    "df['Wind_cont'] = df.apply(\n",
    "    lambda row: (row['Wind_pre_7']+row['Wind_pre_15']+row['Wind_pre_30'])/3 if np.isnan(row['Wind_cont']) else row['Wind_cont'],\n",
    "    axis=1)\n",
    "\n",
    "df['Hum_cont'] = df.apply(\n",
    "    lambda row: (row['Hum_pre_7']+row['Hum_pre_15']+row['Hum_pre_30'])/3 if np.isnan(row['Hum_cont']) else row['Hum_cont'],\n",
    "    axis=1)"
   ]
  },
  {
   "cell_type": "code",
   "execution_count": 55,
   "metadata": {},
   "outputs": [
    {
     "data": {
      "image/png": "[encoded data removed]",
      "text/plain": [
       "<Figure size 1080x720 with 2 Axes>"
      ]
     },
     "metadata": {},
     "output_type": "display_data"
    }
   ],
   "source": [
    "df_numerics_only = df.select_dtypes(include=np.number)\n",
    "\n",
    "corr = df_numerics_only.corr()\n",
    "ax = sns.heatmap(\n",
    "    corr, \n",
    "    vmin=-1, vmax=1, center=0,\n",
    "    cmap=sns.diverging_palette(220, 20, n=200),\n",
    "    square=True\n",
    ")\n",
    "ax.set_xticklabels(\n",
    "    ax.get_xticklabels(),\n",
    "    rotation=45,\n",
    "    horizontalalignment='right'\n",
    ");\n",
    "sns.set(rc={'figure.figsize':(15,10)})"
   ]
  },
  {
   "cell_type": "code",
   "execution_count": 56,
   "metadata": {},
   "outputs": [],
   "source": [
    "# selecting features and target variables\n",
    "X = df[['Vegetation_4','Vegetation_9','Vegetation_12','Vegetation_14','Vegetation_15','Vegetation_16','latitude','Temp_pre_30','Temp_pre_15','Temp_pre_7','Temp_cont','Wind_pre_30','Wind_pre_15','Wind_pre_7','Wind_cont','Hum_pre_30', 'Hum_pre_15','Hum_pre_7','Hum_cont','Prec_pre_30','Prec_pre_15','Prec_pre_7','Prec_cont','Cause_Debris Burning','Cause_Equipment Use','Cause_Fireworks','Cause_Lightning','Cause_Miscellaneous','Cause_Missing/Undefined','Cause_Powerline','Cause_Railroad','Cause_Smoking','Cause_Structure']]\n",
    "y = df['fire_size'] + df['fire_mag']\n",
    "\n",
    "X_norm = (X-X.min())/(X.max()-X.min())\n",
    "y_norm = (y-y.min())/(y.max()-y.min())\n",
    "\n",
    "#train test split\n",
    "X_train, X_test, y_train, y_test = train_test_split(X, y, test_size=0.2, random_state=42)"
   ]
  },
  {
   "cell_type": "code",
   "execution_count": 39,
   "metadata": {},
   "outputs": [],
   "source": [
    "X = df[['Vegetation_4','Vegetation_9','Vegetation_12','Vegetation_14','Vegetation_15','Vegetation_16','latitude','Temp_pre_30','Temp_pre_15','Temp_pre_7','Temp_cont','Wind_pre_30','Wind_pre_15','Wind_pre_7','Wind_cont','Hum_pre_30', 'Hum_pre_15','Hum_pre_7','Hum_cont','Prec_pre_30','Prec_pre_15','Prec_pre_7','Prec_cont']]\n",
    "trans = MinMaxScaler()\n",
    "X_trans = trans.fit_transform(X)\n",
    "X_trans = pd.DataFrame(X_trans)\n",
    "X = X_trans\n",
    "\n",
    "df['fire_intensity'] = df['fire_size'] + df['fire_mag']\n",
    "Y = df['fire_intensity']"
   ]
  },
  {
   "cell_type": "code",
   "execution_count": 42,
   "metadata": {},
   "outputs": [
    {
     "data": {
      "text/plain": [
       "0           11.0\n",
       "1            3.1\n",
       "2           61.0\n",
       "3            1.1\n",
       "6            5.3\n",
       "          ...   \n",
       "55360     3550.0\n",
       "55361    11799.0\n",
       "55362     6389.0\n",
       "55364     5802.0\n",
       "55366    76167.0\n",
       "Name: fire_intensity, Length: 38689, dtype: float64"
      ]
     },
     "execution_count": 42,
     "metadata": {},
     "output_type": "execute_result"
    }
   ],
   "source": [
    "Y"
   ]
  },
  {
   "cell_type": "code",
   "execution_count": null,
   "metadata": {},
   "outputs": [],
   "source": [
    "Y.array.reshape(-1, 1)\n",
    "Y_trans= trans.fit_transform(Y)\n",
    "Y_trans=pd.DataFrame(Y_trans)\n",
    "Y_trans = Y_trans.rename(columns={0: \"Intensity\"})\n",
    "y = Y_trans"
   ]
  },
  {
   "cell_type": "markdown",
   "metadata": {},
   "source": [
    "## Modelling"
   ]
  },
  {
   "cell_type": "markdown",
   "metadata": {},
   "source": [
    "### Deccision trees"
   ]
  },
  {
   "cell_type": "code",
   "execution_count": 57,
   "metadata": {},
   "outputs": [
    {
     "data": {
      "text/plain": [
       "DecisionTreeRegressor(random_state=0)"
      ]
     },
     "execution_count": 57,
     "metadata": {},
     "output_type": "execute_result"
    }
   ],
   "source": [
    "# Deccision trees\n",
    "dectr = DecisionTreeRegressor(random_state=0)\n",
    "dectr.fit(X_train, y_train)\n",
    "#cross_val_score(dectr, X_train, y_train, cv=10).mean()"
   ]
  },
  {
   "cell_type": "code",
   "execution_count": 58,
   "metadata": {},
   "outputs": [
    {
     "data": {
      "text/plain": [
       "-0.5247105207462748"
      ]
     },
     "execution_count": 58,
     "metadata": {},
     "output_type": "execute_result"
    }
   ],
   "source": [
    "dectr.score(X_test,y_test)"
   ]
  },
  {
   "cell_type": "code",
   "execution_count": 59,
   "metadata": {},
   "outputs": [
    {
     "name": "stdout",
     "output_type": "stream",
     "text": [
      "Mean Absolute Error: 3399.394717856035\n",
      "R Squared: -0.5247105207462748\n"
     ]
    }
   ],
   "source": [
    "predictions = dectr.predict(X_test)\n",
    "print('Mean Absolute Error:', metrics.mean_absolute_error(y_test, predictions))\n",
    "print('R Squared:', metrics.r2_score(y_test, predictions))"
   ]
  },
  {
   "cell_type": "markdown",
   "metadata": {},
   "source": [
    "### Gradient Boosting"
   ]
  },
  {
   "cell_type": "code",
   "execution_count": 60,
   "metadata": {},
   "outputs": [
    {
     "data": {
      "text/plain": [
       "GradientBoostingRegressor()"
      ]
     },
     "execution_count": 60,
     "metadata": {},
     "output_type": "execute_result"
    }
   ],
   "source": [
    "gr_boost = GradientBoostingRegressor()\n",
    "gr_boost.fit(X_train, y_train)"
   ]
  },
  {
   "cell_type": "code",
   "execution_count": 61,
   "metadata": {},
   "outputs": [],
   "source": [
    "#cross_val_score(gr_boost, X_train, y_train, cv=10).mean()"
   ]
  },
  {
   "cell_type": "code",
   "execution_count": 62,
   "metadata": {},
   "outputs": [
    {
     "name": "stdout",
     "output_type": "stream",
     "text": [
      "Mean Absolute Error: 3087.00544210433\n",
      "R Squared: 0.08641296408053811\n"
     ]
    }
   ],
   "source": [
    "predictions = gr_boost.predict(X_test)\n",
    "print('Mean Absolute Error:', metrics.mean_absolute_error(y_test, predictions))\n",
    "print('R Squared:', metrics.r2_score(y_test, predictions))"
   ]
  },
  {
   "cell_type": "markdown",
   "metadata": {},
   "source": [
    "### Random Forest"
   ]
  },
  {
   "cell_type": "code",
   "execution_count": null,
   "metadata": {},
   "outputs": [],
   "source": [
    "# Random Forest Regressor \n",
    "rf_reg = RandomForestRegressor(n_estimators = 500, max_depth=8)\n",
    "\n",
    "# fit the regressor with x and y data\n",
    "rf_reg.fit(X_train, y_train)  "
   ]
  },
  {
   "cell_type": "code",
   "execution_count": 66,
   "metadata": {},
   "outputs": [
    {
     "name": "stdout",
     "output_type": "stream",
     "text": [
      "Mean Absolute Error: 3020.29732624605\n",
      "R Squared: 0.1116672185102685\n"
     ]
    }
   ],
   "source": [
    "predictions = rf_reg.predict(X_test)\n",
    "print('Mean Absolute Error:', metrics.mean_absolute_error(y_test, predictions))\n",
    "print('R Squared:', metrics.r2_score(y_test, predictions))"
   ]
  },
  {
   "cell_type": "markdown",
   "metadata": {},
   "source": [
    "### Hyper-parameter tuning\n",
    "Performing Grid Search, which tests the model with different values for parameters like the number of estimators and maximum depth, and then selects the parametres that produce the best results.\n",
    "\n",
    "The basemodel of Random Forest Regressor produced the best results, so that is the algorithm we will tune."
   ]
  },
  {
   "cell_type": "code",
   "execution_count": null,
   "metadata": {},
   "outputs": [],
   "source": [
    "# Shwo which parameters can be tuned\n",
    "rf_reg.get_params().keys()"
   ]
  },
  {
   "cell_type": "code",
   "execution_count": 124,
   "metadata": {},
   "outputs": [
    {
     "name": "stdout",
     "output_type": "stream",
     "text": [
      "0.15844188723246325\n",
      "{'max_depth': 8, 'n_estimators': 250}\n"
     ]
    }
   ],
   "source": [
    "search_grid={'n_estimators':[10,50,100,250],'max_depth':[2,4,5,6,7,8]}\n",
    "rfreg = RandomForestRegressor()\n",
    "search=GridSearchCV(estimator=gbr,param_grid=search_grid,scoring='r2',n_jobs=1,cv=5)\n",
    "search.fit(X_train, y_train)\n",
    "print(search.best_score_)\n",
    "print(search.best_params_)"
   ]
  },
  {
   "cell_type": "markdown",
   "metadata": {},
   "source": [
    "### Fetaure Importance\n",
    "What features are the most influential in the model?"
   ]
  },
  {
   "cell_type": "code",
   "execution_count": 83,
   "metadata": {},
   "outputs": [
    {
     "data": {
      "text/html": [
       "<div>\n",
       "<style scoped>\n",
       "    .dataframe tbody tr th:only-of-type {\n",
       "        vertical-align: middle;\n",
       "    }\n",
       "\n",
       "    .dataframe tbody tr th {\n",
       "        vertical-align: top;\n",
       "    }\n",
       "\n",
       "    .dataframe thead th {\n",
       "        text-align: right;\n",
       "    }\n",
       "</style>\n",
       "<table border=\"1\" class=\"dataframe\">\n",
       "  <thead>\n",
       "    <tr style=\"text-align: right;\">\n",
       "      <th></th>\n",
       "      <th>importance</th>\n",
       "    </tr>\n",
       "  </thead>\n",
       "  <tbody>\n",
       "    <tr>\n",
       "      <th>latitude</th>\n",
       "      <td>0.186960</td>\n",
       "    </tr>\n",
       "    <tr>\n",
       "      <th>Hum_cont</th>\n",
       "      <td>0.109403</td>\n",
       "    </tr>\n",
       "    <tr>\n",
       "      <th>Temp_pre_15</th>\n",
       "      <td>0.072151</td>\n",
       "    </tr>\n",
       "    <tr>\n",
       "      <th>Temp_cont</th>\n",
       "      <td>0.070898</td>\n",
       "    </tr>\n",
       "    <tr>\n",
       "      <th>Wind_pre_30</th>\n",
       "      <td>0.067238</td>\n",
       "    </tr>\n",
       "    <tr>\n",
       "      <th>Hum_pre_30</th>\n",
       "      <td>0.057932</td>\n",
       "    </tr>\n",
       "    <tr>\n",
       "      <th>Wind_cont</th>\n",
       "      <td>0.054491</td>\n",
       "    </tr>\n",
       "    <tr>\n",
       "      <th>Wind_pre_7</th>\n",
       "      <td>0.052445</td>\n",
       "    </tr>\n",
       "    <tr>\n",
       "      <th>Hum_pre_7</th>\n",
       "      <td>0.052050</td>\n",
       "    </tr>\n",
       "    <tr>\n",
       "      <th>Temp_pre_30</th>\n",
       "      <td>0.048335</td>\n",
       "    </tr>\n",
       "    <tr>\n",
       "      <th>Wind_pre_15</th>\n",
       "      <td>0.045854</td>\n",
       "    </tr>\n",
       "    <tr>\n",
       "      <th>Temp_pre_7</th>\n",
       "      <td>0.041599</td>\n",
       "    </tr>\n",
       "    <tr>\n",
       "      <th>Hum_pre_15</th>\n",
       "      <td>0.039037</td>\n",
       "    </tr>\n",
       "    <tr>\n",
       "      <th>Prec_pre_7</th>\n",
       "      <td>0.035018</td>\n",
       "    </tr>\n",
       "    <tr>\n",
       "      <th>Prec_cont</th>\n",
       "      <td>0.024668</td>\n",
       "    </tr>\n",
       "    <tr>\n",
       "      <th>Prec_pre_15</th>\n",
       "      <td>0.012971</td>\n",
       "    </tr>\n",
       "    <tr>\n",
       "      <th>Prec_pre_30</th>\n",
       "      <td>0.012684</td>\n",
       "    </tr>\n",
       "    <tr>\n",
       "      <th>Vegetation_9</th>\n",
       "      <td>0.006647</td>\n",
       "    </tr>\n",
       "    <tr>\n",
       "      <th>Vegetation_4</th>\n",
       "      <td>0.004283</td>\n",
       "    </tr>\n",
       "    <tr>\n",
       "      <th>Vegetation_15</th>\n",
       "      <td>0.002717</td>\n",
       "    </tr>\n",
       "    <tr>\n",
       "      <th>Vegetation_16</th>\n",
       "      <td>0.001312</td>\n",
       "    </tr>\n",
       "    <tr>\n",
       "      <th>Vegetation_12</th>\n",
       "      <td>0.000904</td>\n",
       "    </tr>\n",
       "    <tr>\n",
       "      <th>Vegetation_14</th>\n",
       "      <td>0.000405</td>\n",
       "    </tr>\n",
       "  </tbody>\n",
       "</table>\n",
       "</div>"
      ],
      "text/plain": [
       "               importance\n",
       "latitude         0.186960\n",
       "Hum_cont         0.109403\n",
       "Temp_pre_15      0.072151\n",
       "Temp_cont        0.070898\n",
       "Wind_pre_30      0.067238\n",
       "Hum_pre_30       0.057932\n",
       "Wind_cont        0.054491\n",
       "Wind_pre_7       0.052445\n",
       "Hum_pre_7        0.052050\n",
       "Temp_pre_30      0.048335\n",
       "Wind_pre_15      0.045854\n",
       "Temp_pre_7       0.041599\n",
       "Hum_pre_15       0.039037\n",
       "Prec_pre_7       0.035018\n",
       "Prec_cont        0.024668\n",
       "Prec_pre_15      0.012971\n",
       "Prec_pre_30      0.012684\n",
       "Vegetation_9     0.006647\n",
       "Vegetation_4     0.004283\n",
       "Vegetation_15    0.002717\n",
       "Vegetation_16    0.001312\n",
       "Vegetation_12    0.000904\n",
       "Vegetation_14    0.000405"
      ]
     },
     "execution_count": 83,
     "metadata": {},
     "output_type": "execute_result"
    }
   ],
   "source": [
    "feature_importances = pd.DataFrame(rf_reg.feature_importances_,\n",
    "    index = X_train.columns,columns=['importance']).sort_values('importance',ascending=False)\n",
    "feature_importances"
   ]
  },
  {
   "cell_type": "code",
   "execution_count": 77,
   "metadata": {},
   "outputs": [],
   "source": [
    "#PCA Analysis\n",
    "X_scaled = StandardScaler().fit_transform(X_train)\n",
    "\n",
    "pca = PCA(n_components=5)\n",
    "principalComponents = pca.fit_transform(X_scaled)\n",
    "principalDf = pd.DataFrame(data = principalComponents\n",
    "             , columns = ['pc1', 'pc2','pc3','pc4','pc5'])\n",
    "\n",
    "X_pcca = principalDf[['pc1','pc2','pc3','pc4','pc5']]"
   ]
  },
  {
   "cell_type": "markdown",
   "metadata": {},
   "source": [
    "Neural network model"
   ]
  },
  {
   "cell_type": "code",
   "execution_count": 100,
   "metadata": {},
   "outputs": [],
   "source": [
    "model = Sequential([\n",
    "    Dense(24, activation=\"relu\"),\n",
    "    Dense(64, activation=\"relu\"),\n",
    "    Dense(1, activation='linear')\n",
    "])\n",
    "\n",
    "model.compile(optimizer='sgd', loss='categorical_crossentropy', metrics=['accuracy'])\n"
   ]
  },
  {
   "cell_type": "code",
   "execution_count": 101,
   "metadata": {},
   "outputs": [
    {
     "name": "stdout",
     "output_type": "stream",
     "text": [
      "Epoch 1/10\n",
      "823/823 [==============================] - 1s 1ms/step - loss: 2.6822e-04 - accuracy: 0.0070 - val_loss: 2.9432e-04 - val_accuracy: 0.0084\n",
      "Epoch 2/10\n",
      "823/823 [==============================] - 1s 1ms/step - loss: 2.6822e-04 - accuracy: 0.0070 - val_loss: 2.9432e-04 - val_accuracy: 0.0084\n",
      "Epoch 3/10\n",
      "823/823 [==============================] - 1s 942us/step - loss: 2.6822e-04 - accuracy: 0.0070 - val_loss: 2.9432e-04 - val_accuracy: 0.0084\n",
      "Epoch 4/10\n",
      "823/823 [==============================] - 1s 894us/step - loss: 2.6822e-04 - accuracy: 0.0070 - val_loss: 2.9432e-04 - val_accuracy: 0.0084\n",
      "Epoch 5/10\n",
      "823/823 [==============================] - 1s 953us/step - loss: 2.6822e-04 - accuracy: 0.0070 - val_loss: 2.9432e-04 - val_accuracy: 0.0084\n",
      "Epoch 6/10\n",
      "823/823 [==============================] - 1s 949us/step - loss: 2.6822e-04 - accuracy: 0.0070 - val_loss: 2.9432e-04 - val_accuracy: 0.0084\n",
      "Epoch 7/10\n",
      "823/823 [==============================] - 1s 1ms/step - loss: 2.6822e-04 - accuracy: 0.0070 - val_loss: 2.9432e-04 - val_accuracy: 0.0084\n",
      "Epoch 8/10\n",
      "823/823 [==============================] - 1s 1ms/step - loss: 2.6822e-04 - accuracy: 0.0070 - val_loss: 2.9432e-04 - val_accuracy: 0.0084\n",
      "Epoch 9/10\n",
      "823/823 [==============================] - 1s 1ms/step - loss: 2.6822e-04 - accuracy: 0.0070 - val_loss: 2.9432e-04 - val_accuracy: 0.0084\n",
      "Epoch 10/10\n",
      "823/823 [==============================] - 1s 940us/step - loss: 2.6822e-04 - accuracy: 0.0070 - val_loss: 2.9432e-04 - val_accuracy: 0.0084\n"
     ]
    }
   ],
   "source": [
    "history = model.fit(X_train, y_train, epochs=10, validation_split=0.15)\n"
   ]
  },
  {
   "cell_type": "code",
   "execution_count": 102,
   "metadata": {},
   "outputs": [
    {
     "data": {
      "image/png": "[encoded data removed]",
      "text/plain": [
       "<Figure size 720x720 with 1 Axes>"
      ]
     },
     "metadata": {},
     "output_type": "display_data"
    }
   ],
   "source": [
    "# Run this cell to plot the epoch vs accuracy graph\n",
    "\n",
    "try:\n",
    "    plt.plot(history.history['accuracy'])\n",
    "    plt.plot(history.history['val_accuracy'])\n",
    "except KeyError:\n",
    "    plt.plot(history.history['acc'])\n",
    "    plt.plot(history.history['val_acc'])\n",
    "plt.title('Accuracy vs. epochs')\n",
    "plt.ylabel('Loss')\n",
    "plt.xlabel('Epoch')\n",
    "plt.legend(['Training', 'Validation'], loc='lower right')\n",
    "plt.show() "
   ]
  },
  {
   "cell_type": "code",
   "execution_count": 103,
   "metadata": {},
   "outputs": [
    {
     "data": {
      "image/png": "[encoded data removed]",
      "text/plain": [
       "<Figure size 720x720 with 1 Axes>"
      ]
     },
     "metadata": {},
     "output_type": "display_data"
    }
   ],
   "source": [
    "#Run this cell to plot the epoch vs loss graph\n",
    "plt.plot(history.history['loss'])\n",
    "plt.plot(history.history['val_loss'])\n",
    "plt.title('Loss vs. epochs')\n",
    "plt.ylabel('Loss')\n",
    "plt.xlabel('Epoch')\n",
    "plt.legend(['Training', 'Validation'], loc='upper right')\n",
    "plt.show() "
   ]
  },
  {
   "cell_type": "markdown",
   "metadata": {},
   "source": [
    "## Other"
   ]
  },
  {
   "cell_type": "code",
   "execution_count": null,
   "metadata": {},
   "outputs": [],
   "source": []
  },
  {
   "cell_type": "code",
   "execution_count": null,
   "metadata": {},
   "outputs": [],
   "source": [
    "# Get weather stations ordered by distance to Vancouver, BC\n",
    "stations = Stations(lat = 38.843988, lon = -122.759707, daily = datetime(2018, 1, 1))\n",
    "# Fetch closest station (limit = 1)\n",
    "station = stations.fetch(1)\n",
    "\n",
    "data = Daily(station, start = datetime(2018, 1, 1), end = datetime(2018, 1, 1))\n",
    "# Fetch Pandas DataFrame\n",
    "data = data.fetch()\n",
    "\n",
    "data.plot(y=['tavg', 'tmin', 'tmax'])"
   ]
  }
 ],
 "metadata": {
  "colab": {
   "collapsed_sections": [],
   "name": "Assignement_code.ipynb",
   "provenance": []
  },
  "kernelspec": {
   "display_name": "Python 3",
   "language": "python",
   "name": "python3"
  },
  "language_info": {
   "codemirror_mode": {
    "name": "ipython",
    "version": 3
   },
   "file_extension": ".py",
   "mimetype": "text/x-python",
   "name": "python",
   "nbconvert_exporter": "python",
   "pygments_lexer": "ipython3",
   "version": "3.8.5"
  }
 },
 "nbformat": 4,
 "nbformat_minor": 1
}
